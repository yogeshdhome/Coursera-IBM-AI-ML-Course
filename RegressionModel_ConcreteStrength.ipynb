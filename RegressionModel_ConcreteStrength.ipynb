{
  "nbformat": 4,
  "nbformat_minor": 0,
  "metadata": {
    "colab": {
      "name": "RegressionModel_ConcreteStrength.ipynb",
      "provenance": [],
      "collapsed_sections": [],
      "authorship_tag": "ABX9TyNrHQ2ZDDbwrd+BLqhsTafZ",
      "include_colab_link": true
    },
    "kernelspec": {
      "name": "python3",
      "display_name": "Python 3"
    },
    "language_info": {
      "name": "python"
    },
    "accelerator": "GPU"
  },
  "cells": [
    {
      "cell_type": "markdown",
      "metadata": {
        "id": "view-in-github",
        "colab_type": "text"
      },
      "source": [
        "<a href=\"https://colab.research.google.com/github/yogeshdhome/Coursera-IBM-AI-ML-Course/blob/master/RegressionModel_ConcreteStrength.ipynb\" target=\"_parent\"><img src=\"https://colab.research.google.com/assets/colab-badge.svg\" alt=\"Open In Colab\"/></a>"
      ]
    },
    {
      "cell_type": "code",
      "metadata": {
        "id": "f_TZecEPh1yw"
      },
      "source": [
        "import keras\n",
        "from keras.models import Sequential\n",
        "from keras.layers import Dense\n",
        "import pandas as pd\n",
        "import numpy as np\n",
        "from sklearn.model_selection import train_test_split"
      ],
      "execution_count": 1,
      "outputs": []
    },
    {
      "cell_type": "code",
      "metadata": {
        "id": "Z7k9GYGViwck"
      },
      "source": [
        "concrete_df = pd.read_csv('/content/sample_data/concrete_data.csv')"
      ],
      "execution_count": 2,
      "outputs": []
    },
    {
      "cell_type": "code",
      "metadata": {
        "colab": {
          "base_uri": "https://localhost:8080/"
        },
        "id": "plNOPgNCi-Y5",
        "outputId": "64f646db-da5a-4c81-e8bf-90a7bbf6de39"
      },
      "source": [
        "concrete_df.shape"
      ],
      "execution_count": 3,
      "outputs": [
        {
          "output_type": "execute_result",
          "data": {
            "text/plain": [
              "(1030, 9)"
            ]
          },
          "metadata": {
            "tags": []
          },
          "execution_count": 3
        }
      ]
    },
    {
      "cell_type": "code",
      "metadata": {
        "colab": {
          "base_uri": "https://localhost:8080/"
        },
        "id": "-skTvKBnjKbk",
        "outputId": "61a39761-d554-423f-8b6b-73b6ad941c99"
      },
      "source": [
        "concrete_df.columns"
      ],
      "execution_count": 4,
      "outputs": [
        {
          "output_type": "execute_result",
          "data": {
            "text/plain": [
              "Index(['Cement', 'Blast Furnace Slag', 'Fly Ash', 'Water', 'Superplasticizer',\n",
              "       'Coarse Aggregate', 'Fine Aggregate', 'Age', 'Strength'],\n",
              "      dtype='object')"
            ]
          },
          "metadata": {
            "tags": []
          },
          "execution_count": 4
        }
      ]
    },
    {
      "cell_type": "code",
      "metadata": {
        "colab": {
          "base_uri": "https://localhost:8080/",
          "height": 204
        },
        "id": "RGDAzuG-jM1z",
        "outputId": "d70f4caf-3d2b-42c6-b233-407641e114e8"
      },
      "source": [
        "concrete_df.head(5)"
      ],
      "execution_count": 7,
      "outputs": [
        {
          "output_type": "execute_result",
          "data": {
            "text/html": [
              "<div>\n",
              "<style scoped>\n",
              "    .dataframe tbody tr th:only-of-type {\n",
              "        vertical-align: middle;\n",
              "    }\n",
              "\n",
              "    .dataframe tbody tr th {\n",
              "        vertical-align: top;\n",
              "    }\n",
              "\n",
              "    .dataframe thead th {\n",
              "        text-align: right;\n",
              "    }\n",
              "</style>\n",
              "<table border=\"1\" class=\"dataframe\">\n",
              "  <thead>\n",
              "    <tr style=\"text-align: right;\">\n",
              "      <th></th>\n",
              "      <th>Cement</th>\n",
              "      <th>Blast Furnace Slag</th>\n",
              "      <th>Fly Ash</th>\n",
              "      <th>Water</th>\n",
              "      <th>Superplasticizer</th>\n",
              "      <th>Coarse Aggregate</th>\n",
              "      <th>Fine Aggregate</th>\n",
              "      <th>Age</th>\n",
              "      <th>Strength</th>\n",
              "    </tr>\n",
              "  </thead>\n",
              "  <tbody>\n",
              "    <tr>\n",
              "      <th>0</th>\n",
              "      <td>540.0</td>\n",
              "      <td>0.0</td>\n",
              "      <td>0.0</td>\n",
              "      <td>162.0</td>\n",
              "      <td>2.5</td>\n",
              "      <td>1040.0</td>\n",
              "      <td>676.0</td>\n",
              "      <td>28</td>\n",
              "      <td>79.99</td>\n",
              "    </tr>\n",
              "    <tr>\n",
              "      <th>1</th>\n",
              "      <td>540.0</td>\n",
              "      <td>0.0</td>\n",
              "      <td>0.0</td>\n",
              "      <td>162.0</td>\n",
              "      <td>2.5</td>\n",
              "      <td>1055.0</td>\n",
              "      <td>676.0</td>\n",
              "      <td>28</td>\n",
              "      <td>61.89</td>\n",
              "    </tr>\n",
              "    <tr>\n",
              "      <th>2</th>\n",
              "      <td>332.5</td>\n",
              "      <td>142.5</td>\n",
              "      <td>0.0</td>\n",
              "      <td>228.0</td>\n",
              "      <td>0.0</td>\n",
              "      <td>932.0</td>\n",
              "      <td>594.0</td>\n",
              "      <td>270</td>\n",
              "      <td>40.27</td>\n",
              "    </tr>\n",
              "    <tr>\n",
              "      <th>3</th>\n",
              "      <td>332.5</td>\n",
              "      <td>142.5</td>\n",
              "      <td>0.0</td>\n",
              "      <td>228.0</td>\n",
              "      <td>0.0</td>\n",
              "      <td>932.0</td>\n",
              "      <td>594.0</td>\n",
              "      <td>365</td>\n",
              "      <td>41.05</td>\n",
              "    </tr>\n",
              "    <tr>\n",
              "      <th>4</th>\n",
              "      <td>198.6</td>\n",
              "      <td>132.4</td>\n",
              "      <td>0.0</td>\n",
              "      <td>192.0</td>\n",
              "      <td>0.0</td>\n",
              "      <td>978.4</td>\n",
              "      <td>825.5</td>\n",
              "      <td>360</td>\n",
              "      <td>44.30</td>\n",
              "    </tr>\n",
              "  </tbody>\n",
              "</table>\n",
              "</div>"
            ],
            "text/plain": [
              "   Cement  Blast Furnace Slag  Fly Ash  ...  Fine Aggregate  Age  Strength\n",
              "0   540.0                 0.0      0.0  ...           676.0   28     79.99\n",
              "1   540.0                 0.0      0.0  ...           676.0   28     61.89\n",
              "2   332.5               142.5      0.0  ...           594.0  270     40.27\n",
              "3   332.5               142.5      0.0  ...           594.0  365     41.05\n",
              "4   198.6               132.4      0.0  ...           825.5  360     44.30\n",
              "\n",
              "[5 rows x 9 columns]"
            ]
          },
          "metadata": {
            "tags": []
          },
          "execution_count": 7
        }
      ]
    },
    {
      "cell_type": "code",
      "metadata": {
        "colab": {
          "base_uri": "https://localhost:8080/"
        },
        "id": "O8LQLCOsjdBQ",
        "outputId": "71958c8f-623b-4a46-97bc-df5da6baecb4"
      },
      "source": [
        "concrete_df.isnull().sum()"
      ],
      "execution_count": 9,
      "outputs": [
        {
          "output_type": "execute_result",
          "data": {
            "text/plain": [
              "Cement                0\n",
              "Blast Furnace Slag    0\n",
              "Fly Ash               0\n",
              "Water                 0\n",
              "Superplasticizer      0\n",
              "Coarse Aggregate      0\n",
              "Fine Aggregate        0\n",
              "Age                   0\n",
              "Strength              0\n",
              "dtype: int64"
            ]
          },
          "metadata": {
            "tags": []
          },
          "execution_count": 9
        }
      ]
    },
    {
      "cell_type": "code",
      "metadata": {
        "colab": {
          "base_uri": "https://localhost:8080/"
        },
        "id": "fW74KIhqjie8",
        "outputId": "bbb07619-13c1-48b4-9ded-c2d0fd7b9ff3"
      },
      "source": [
        "concrete_df.info()"
      ],
      "execution_count": 11,
      "outputs": [
        {
          "output_type": "stream",
          "text": [
            "<class 'pandas.core.frame.DataFrame'>\n",
            "RangeIndex: 1030 entries, 0 to 1029\n",
            "Data columns (total 9 columns):\n",
            " #   Column              Non-Null Count  Dtype  \n",
            "---  ------              --------------  -----  \n",
            " 0   Cement              1030 non-null   float64\n",
            " 1   Blast Furnace Slag  1030 non-null   float64\n",
            " 2   Fly Ash             1030 non-null   float64\n",
            " 3   Water               1030 non-null   float64\n",
            " 4   Superplasticizer    1030 non-null   float64\n",
            " 5   Coarse Aggregate    1030 non-null   float64\n",
            " 6   Fine Aggregate      1030 non-null   float64\n",
            " 7   Age                 1030 non-null   int64  \n",
            " 8   Strength            1030 non-null   float64\n",
            "dtypes: float64(8), int64(1)\n",
            "memory usage: 72.5 KB\n"
          ],
          "name": "stdout"
        }
      ]
    },
    {
      "cell_type": "code",
      "metadata": {
        "colab": {
          "base_uri": "https://localhost:8080/"
        },
        "id": "OQSpeOJmju5B",
        "outputId": "3b85be88-2587-4568-ae9f-046c066e1893"
      },
      "source": [
        "np.sort(concrete_df['Age'].unique())"
      ],
      "execution_count": 17,
      "outputs": [
        {
          "output_type": "execute_result",
          "data": {
            "text/plain": [
              "array([  1,   3,   7,  14,  28,  56,  90,  91, 100, 120, 180, 270, 360,\n",
              "       365])"
            ]
          },
          "metadata": {
            "tags": []
          },
          "execution_count": 17
        }
      ]
    },
    {
      "cell_type": "code",
      "metadata": {
        "colab": {
          "base_uri": "https://localhost:8080/",
          "height": 514
        },
        "id": "mZoiWhjmj6f1",
        "outputId": "1fce8848-d6ba-4b04-d879-02696ed03d86"
      },
      "source": [
        "concrete_df.groupby(['Age']).count()"
      ],
      "execution_count": 24,
      "outputs": [
        {
          "output_type": "execute_result",
          "data": {
            "text/html": [
              "<div>\n",
              "<style scoped>\n",
              "    .dataframe tbody tr th:only-of-type {\n",
              "        vertical-align: middle;\n",
              "    }\n",
              "\n",
              "    .dataframe tbody tr th {\n",
              "        vertical-align: top;\n",
              "    }\n",
              "\n",
              "    .dataframe thead th {\n",
              "        text-align: right;\n",
              "    }\n",
              "</style>\n",
              "<table border=\"1\" class=\"dataframe\">\n",
              "  <thead>\n",
              "    <tr style=\"text-align: right;\">\n",
              "      <th></th>\n",
              "      <th>Cement</th>\n",
              "      <th>Blast Furnace Slag</th>\n",
              "      <th>Fly Ash</th>\n",
              "      <th>Water</th>\n",
              "      <th>Superplasticizer</th>\n",
              "      <th>Coarse Aggregate</th>\n",
              "      <th>Fine Aggregate</th>\n",
              "      <th>Strength</th>\n",
              "    </tr>\n",
              "    <tr>\n",
              "      <th>Age</th>\n",
              "      <th></th>\n",
              "      <th></th>\n",
              "      <th></th>\n",
              "      <th></th>\n",
              "      <th></th>\n",
              "      <th></th>\n",
              "      <th></th>\n",
              "      <th></th>\n",
              "    </tr>\n",
              "  </thead>\n",
              "  <tbody>\n",
              "    <tr>\n",
              "      <th>1</th>\n",
              "      <td>2</td>\n",
              "      <td>2</td>\n",
              "      <td>2</td>\n",
              "      <td>2</td>\n",
              "      <td>2</td>\n",
              "      <td>2</td>\n",
              "      <td>2</td>\n",
              "      <td>2</td>\n",
              "    </tr>\n",
              "    <tr>\n",
              "      <th>3</th>\n",
              "      <td>134</td>\n",
              "      <td>134</td>\n",
              "      <td>134</td>\n",
              "      <td>134</td>\n",
              "      <td>134</td>\n",
              "      <td>134</td>\n",
              "      <td>134</td>\n",
              "      <td>134</td>\n",
              "    </tr>\n",
              "    <tr>\n",
              "      <th>7</th>\n",
              "      <td>126</td>\n",
              "      <td>126</td>\n",
              "      <td>126</td>\n",
              "      <td>126</td>\n",
              "      <td>126</td>\n",
              "      <td>126</td>\n",
              "      <td>126</td>\n",
              "      <td>126</td>\n",
              "    </tr>\n",
              "    <tr>\n",
              "      <th>14</th>\n",
              "      <td>62</td>\n",
              "      <td>62</td>\n",
              "      <td>62</td>\n",
              "      <td>62</td>\n",
              "      <td>62</td>\n",
              "      <td>62</td>\n",
              "      <td>62</td>\n",
              "      <td>62</td>\n",
              "    </tr>\n",
              "    <tr>\n",
              "      <th>28</th>\n",
              "      <td>425</td>\n",
              "      <td>425</td>\n",
              "      <td>425</td>\n",
              "      <td>425</td>\n",
              "      <td>425</td>\n",
              "      <td>425</td>\n",
              "      <td>425</td>\n",
              "      <td>425</td>\n",
              "    </tr>\n",
              "    <tr>\n",
              "      <th>56</th>\n",
              "      <td>91</td>\n",
              "      <td>91</td>\n",
              "      <td>91</td>\n",
              "      <td>91</td>\n",
              "      <td>91</td>\n",
              "      <td>91</td>\n",
              "      <td>91</td>\n",
              "      <td>91</td>\n",
              "    </tr>\n",
              "    <tr>\n",
              "      <th>90</th>\n",
              "      <td>54</td>\n",
              "      <td>54</td>\n",
              "      <td>54</td>\n",
              "      <td>54</td>\n",
              "      <td>54</td>\n",
              "      <td>54</td>\n",
              "      <td>54</td>\n",
              "      <td>54</td>\n",
              "    </tr>\n",
              "    <tr>\n",
              "      <th>91</th>\n",
              "      <td>22</td>\n",
              "      <td>22</td>\n",
              "      <td>22</td>\n",
              "      <td>22</td>\n",
              "      <td>22</td>\n",
              "      <td>22</td>\n",
              "      <td>22</td>\n",
              "      <td>22</td>\n",
              "    </tr>\n",
              "    <tr>\n",
              "      <th>100</th>\n",
              "      <td>52</td>\n",
              "      <td>52</td>\n",
              "      <td>52</td>\n",
              "      <td>52</td>\n",
              "      <td>52</td>\n",
              "      <td>52</td>\n",
              "      <td>52</td>\n",
              "      <td>52</td>\n",
              "    </tr>\n",
              "    <tr>\n",
              "      <th>120</th>\n",
              "      <td>3</td>\n",
              "      <td>3</td>\n",
              "      <td>3</td>\n",
              "      <td>3</td>\n",
              "      <td>3</td>\n",
              "      <td>3</td>\n",
              "      <td>3</td>\n",
              "      <td>3</td>\n",
              "    </tr>\n",
              "    <tr>\n",
              "      <th>180</th>\n",
              "      <td>26</td>\n",
              "      <td>26</td>\n",
              "      <td>26</td>\n",
              "      <td>26</td>\n",
              "      <td>26</td>\n",
              "      <td>26</td>\n",
              "      <td>26</td>\n",
              "      <td>26</td>\n",
              "    </tr>\n",
              "    <tr>\n",
              "      <th>270</th>\n",
              "      <td>13</td>\n",
              "      <td>13</td>\n",
              "      <td>13</td>\n",
              "      <td>13</td>\n",
              "      <td>13</td>\n",
              "      <td>13</td>\n",
              "      <td>13</td>\n",
              "      <td>13</td>\n",
              "    </tr>\n",
              "    <tr>\n",
              "      <th>360</th>\n",
              "      <td>6</td>\n",
              "      <td>6</td>\n",
              "      <td>6</td>\n",
              "      <td>6</td>\n",
              "      <td>6</td>\n",
              "      <td>6</td>\n",
              "      <td>6</td>\n",
              "      <td>6</td>\n",
              "    </tr>\n",
              "    <tr>\n",
              "      <th>365</th>\n",
              "      <td>14</td>\n",
              "      <td>14</td>\n",
              "      <td>14</td>\n",
              "      <td>14</td>\n",
              "      <td>14</td>\n",
              "      <td>14</td>\n",
              "      <td>14</td>\n",
              "      <td>14</td>\n",
              "    </tr>\n",
              "  </tbody>\n",
              "</table>\n",
              "</div>"
            ],
            "text/plain": [
              "     Cement  Blast Furnace Slag  ...  Fine Aggregate  Strength\n",
              "Age                              ...                          \n",
              "1         2                   2  ...               2         2\n",
              "3       134                 134  ...             134       134\n",
              "7       126                 126  ...             126       126\n",
              "14       62                  62  ...              62        62\n",
              "28      425                 425  ...             425       425\n",
              "56       91                  91  ...              91        91\n",
              "90       54                  54  ...              54        54\n",
              "91       22                  22  ...              22        22\n",
              "100      52                  52  ...              52        52\n",
              "120       3                   3  ...               3         3\n",
              "180      26                  26  ...              26        26\n",
              "270      13                  13  ...              13        13\n",
              "360       6                   6  ...               6         6\n",
              "365      14                  14  ...              14        14\n",
              "\n",
              "[14 rows x 8 columns]"
            ]
          },
          "metadata": {
            "tags": []
          },
          "execution_count": 24
        }
      ]
    },
    {
      "cell_type": "code",
      "metadata": {
        "id": "XftRsV0pkgGI"
      },
      "source": [
        "X_train, X_test, y_train, y_test = train_test_split(concrete_df.drop(['Strength'],axis=1), concrete_df['Strength'], test_size=0.3, random_state=101)"
      ],
      "execution_count": 6,
      "outputs": []
    },
    {
      "cell_type": "code",
      "metadata": {
        "colab": {
          "base_uri": "https://localhost:8080/"
        },
        "id": "ifyY866fmIAL",
        "outputId": "d4e39422-e7e5-4400-87ec-2b2dbe5d2747"
      },
      "source": [
        "print(X_train.shape)\n",
        "print(X_test.shape)\n",
        "print(y_train.shape)\n",
        "print(y_test.shape)"
      ],
      "execution_count": 7,
      "outputs": [
        {
          "output_type": "stream",
          "text": [
            "(721, 8)\n",
            "(309, 8)\n",
            "(721,)\n",
            "(309,)\n"
          ],
          "name": "stdout"
        }
      ]
    },
    {
      "cell_type": "code",
      "metadata": {
        "colab": {
          "base_uri": "https://localhost:8080/"
        },
        "id": "s26Aas5LnyAr",
        "outputId": "623ffa29-5f3f-43a5-bd29-45066bc2b173"
      },
      "source": [
        "n_cols = X_train.shape[1]\n",
        "n_cols"
      ],
      "execution_count": 8,
      "outputs": [
        {
          "output_type": "execute_result",
          "data": {
            "text/plain": [
              "8"
            ]
          },
          "metadata": {
            "tags": []
          },
          "execution_count": 8
        }
      ]
    },
    {
      "cell_type": "code",
      "metadata": {
        "id": "CGFftfqumRaj"
      },
      "source": [
        "def RegressionNeuralModel():\n",
        "  # Create model with 1 hidden layer having 10 nodes\n",
        "  RegressionModel = Sequential()\n",
        "  RegressionModel.add(Dense(10,activation='relu',input_shape=(n_cols,)))\n",
        "  RegressionModel.add(Dense(1))\n",
        "\n",
        "  # Compile the model\n",
        "  RegressionModel.compile(optimizer='adam',loss='mean_squared_error')\n",
        "  return RegressionModel"
      ],
      "execution_count": 9,
      "outputs": []
    },
    {
      "cell_type": "code",
      "metadata": {
        "id": "NP7cowiymiQN"
      },
      "source": [
        "# Build the model\n",
        "model = RegressionNeuralModel()"
      ],
      "execution_count": 10,
      "outputs": []
    },
    {
      "cell_type": "code",
      "metadata": {
        "colab": {
          "base_uri": "https://localhost:8080/"
        },
        "id": "CsfvX_QHpB2q",
        "outputId": "3e5d000f-642c-4583-c9c5-1f95e7faa170"
      },
      "source": [
        "# Fit the model with epochs=50\n",
        "model.fit(X_train,y_train,epochs=50,verbose=1)"
      ],
      "execution_count": 40,
      "outputs": [
        {
          "output_type": "stream",
          "text": [
            "Epoch 1/50\n",
            "23/23 [==============================] - 13s 2ms/step - loss: 1597.9998\n",
            "Epoch 2/50\n",
            "23/23 [==============================] - 0s 2ms/step - loss: 1055.0661\n",
            "Epoch 3/50\n",
            "23/23 [==============================] - 0s 2ms/step - loss: 894.5149\n",
            "Epoch 4/50\n",
            "23/23 [==============================] - 0s 2ms/step - loss: 684.3636\n",
            "Epoch 5/50\n",
            "23/23 [==============================] - 0s 2ms/step - loss: 550.8759\n",
            "Epoch 6/50\n",
            "23/23 [==============================] - 0s 2ms/step - loss: 536.3496\n",
            "Epoch 7/50\n",
            "23/23 [==============================] - 0s 2ms/step - loss: 481.9248\n",
            "Epoch 8/50\n",
            "23/23 [==============================] - 0s 2ms/step - loss: 367.0489\n",
            "Epoch 9/50\n",
            "23/23 [==============================] - 0s 2ms/step - loss: 343.3622\n",
            "Epoch 10/50\n",
            "23/23 [==============================] - 0s 2ms/step - loss: 283.5827\n",
            "Epoch 11/50\n",
            "23/23 [==============================] - 0s 2ms/step - loss: 247.4574\n",
            "Epoch 12/50\n",
            "23/23 [==============================] - 0s 2ms/step - loss: 224.1040\n",
            "Epoch 13/50\n",
            "23/23 [==============================] - 0s 2ms/step - loss: 195.9313\n",
            "Epoch 14/50\n",
            "23/23 [==============================] - 0s 2ms/step - loss: 197.9781\n",
            "Epoch 15/50\n",
            "23/23 [==============================] - 0s 2ms/step - loss: 181.3088\n",
            "Epoch 16/50\n",
            "23/23 [==============================] - 0s 2ms/step - loss: 169.4082\n",
            "Epoch 17/50\n",
            "23/23 [==============================] - 0s 2ms/step - loss: 154.2665\n",
            "Epoch 18/50\n",
            "23/23 [==============================] - 0s 2ms/step - loss: 153.3442\n",
            "Epoch 19/50\n",
            "23/23 [==============================] - 0s 2ms/step - loss: 158.0367\n",
            "Epoch 20/50\n",
            "23/23 [==============================] - 0s 2ms/step - loss: 140.8414\n",
            "Epoch 21/50\n",
            "23/23 [==============================] - 0s 2ms/step - loss: 136.0901\n",
            "Epoch 22/50\n",
            "23/23 [==============================] - 0s 2ms/step - loss: 132.8116\n",
            "Epoch 23/50\n",
            "23/23 [==============================] - 0s 2ms/step - loss: 135.8922\n",
            "Epoch 24/50\n",
            "23/23 [==============================] - 0s 2ms/step - loss: 120.3434\n",
            "Epoch 25/50\n",
            "23/23 [==============================] - 0s 2ms/step - loss: 130.8079\n",
            "Epoch 26/50\n",
            "23/23 [==============================] - 0s 2ms/step - loss: 124.3298\n",
            "Epoch 27/50\n",
            "23/23 [==============================] - 0s 2ms/step - loss: 123.6561\n",
            "Epoch 28/50\n",
            "23/23 [==============================] - 0s 2ms/step - loss: 123.2864\n",
            "Epoch 29/50\n",
            "23/23 [==============================] - 0s 2ms/step - loss: 127.2079\n",
            "Epoch 30/50\n",
            "23/23 [==============================] - 0s 2ms/step - loss: 104.8335\n",
            "Epoch 31/50\n",
            "23/23 [==============================] - 0s 2ms/step - loss: 110.3121\n",
            "Epoch 32/50\n",
            "23/23 [==============================] - 0s 2ms/step - loss: 110.7583\n",
            "Epoch 33/50\n",
            "23/23 [==============================] - 0s 2ms/step - loss: 115.1522\n",
            "Epoch 34/50\n",
            "23/23 [==============================] - 0s 2ms/step - loss: 102.0722\n",
            "Epoch 35/50\n",
            "23/23 [==============================] - 0s 2ms/step - loss: 109.0735\n",
            "Epoch 36/50\n",
            "23/23 [==============================] - 0s 2ms/step - loss: 100.0574\n",
            "Epoch 37/50\n",
            "23/23 [==============================] - 0s 2ms/step - loss: 103.3432\n",
            "Epoch 38/50\n",
            "23/23 [==============================] - 0s 2ms/step - loss: 102.9890\n",
            "Epoch 39/50\n",
            "23/23 [==============================] - 0s 2ms/step - loss: 101.2159\n",
            "Epoch 40/50\n",
            "23/23 [==============================] - 0s 2ms/step - loss: 103.4773\n",
            "Epoch 41/50\n",
            "23/23 [==============================] - 0s 2ms/step - loss: 93.4384\n",
            "Epoch 42/50\n",
            "23/23 [==============================] - 0s 2ms/step - loss: 101.6954\n",
            "Epoch 43/50\n",
            "23/23 [==============================] - 0s 2ms/step - loss: 107.2133\n",
            "Epoch 44/50\n",
            "23/23 [==============================] - 0s 2ms/step - loss: 96.9367\n",
            "Epoch 45/50\n",
            "23/23 [==============================] - 0s 2ms/step - loss: 92.8785\n",
            "Epoch 46/50\n",
            "23/23 [==============================] - 0s 2ms/step - loss: 89.3059\n",
            "Epoch 47/50\n",
            "23/23 [==============================] - 0s 2ms/step - loss: 96.2074\n",
            "Epoch 48/50\n",
            "23/23 [==============================] - 0s 2ms/step - loss: 90.2604\n",
            "Epoch 49/50\n",
            "23/23 [==============================] - 0s 2ms/step - loss: 88.3155\n",
            "Epoch 50/50\n",
            "23/23 [==============================] - 0s 2ms/step - loss: 93.4934\n"
          ],
          "name": "stdout"
        },
        {
          "output_type": "execute_result",
          "data": {
            "text/plain": [
              "<keras.callbacks.History at 0x7f1bd02a5850>"
            ]
          },
          "metadata": {
            "tags": []
          },
          "execution_count": 40
        }
      ]
    },
    {
      "cell_type": "code",
      "metadata": {
        "id": "OY0-_2uIqXwT"
      },
      "source": [
        "from sklearn.metrics import mean_squared_error"
      ],
      "execution_count": 13,
      "outputs": []
    },
    {
      "cell_type": "code",
      "metadata": {
        "id": "dtvINZi8q1Mf"
      },
      "source": [
        "# Predict the label(y_pred) from X_test\n",
        "y_pred = model.predict(X_test)"
      ],
      "execution_count": 42,
      "outputs": []
    },
    {
      "cell_type": "code",
      "metadata": {
        "colab": {
          "base_uri": "https://localhost:8080/"
        },
        "id": "BeQXv8ZqrDo4",
        "outputId": "454ab71e-0612-4430-f434-53566f84d436"
      },
      "source": [
        "#Mean squared error for current run\n",
        "print(\"Mean Squared error = {}\".format(mean_squared_error(y_test,y_pred)))"
      ],
      "execution_count": 43,
      "outputs": [
        {
          "output_type": "stream",
          "text": [
            "Mean Squared error = 95.83574707043852\n"
          ],
          "name": "stdout"
        }
      ]
    },
    {
      "cell_type": "code",
      "metadata": {
        "colab": {
          "base_uri": "https://localhost:8080/"
        },
        "id": "Xkplke93rWIe",
        "outputId": "f5a70ae2-eda9-4347-ccc8-9f85a62a8b9f"
      },
      "source": [
        "#Root Mean square error for current run\n",
        "print(\"Root Mean Squared error = {}\".format(np.sqrt(mean_squared_error(y_test,y_pred))))"
      ],
      "execution_count": 44,
      "outputs": [
        {
          "output_type": "stream",
          "text": [
            "Root Mean Squared error = 9.789573385517803\n"
          ],
          "name": "stdout"
        }
      ]
    },
    {
      "cell_type": "code",
      "metadata": {
        "colab": {
          "base_uri": "https://localhost:8080/"
        },
        "id": "5sSSRkMpsvvt",
        "outputId": "ef78adb1-46cc-488b-d4b0-819dcbfa7b1a"
      },
      "source": [
        "np.random.randint(0,100,1)"
      ],
      "execution_count": 51,
      "outputs": [
        {
          "output_type": "execute_result",
          "data": {
            "text/plain": [
              "array([86])"
            ]
          },
          "metadata": {
            "tags": []
          },
          "execution_count": 51
        }
      ]
    },
    {
      "cell_type": "code",
      "metadata": {
        "id": "kRuGjwG8rew1"
      },
      "source": [
        "#Define the function to run steps 1-3 for 50(n) times, also selecting random state dyamically\n",
        "def MeanSquaredErrors(n):\n",
        "  i = 0\n",
        "  mean_error = []\n",
        "  for i in range(n):\n",
        "    X_train, X_test, y_train, y_test = train_test_split(concrete_df.drop(['Strength'],axis=1), concrete_df['Strength'], test_size=0.3, random_state=np.random.randint(0,100,1)[0])\n",
        "    model.fit(X_train,y_train,epochs=50,verbose=0)\n",
        "    mean_error.append(mean_squared_error(y_test,model.predict(X_test)))\n",
        "\n",
        "  return mean_error\n",
        "\n",
        "mean_square_list = MeanSquaredErrors(50)"
      ],
      "execution_count": 53,
      "outputs": []
    },
    {
      "cell_type": "code",
      "metadata": {
        "colab": {
          "base_uri": "https://localhost:8080/"
        },
        "id": "UJWrPyxfuhBF",
        "outputId": "428565d1-d89c-4fbf-e4b4-5fc3878a98dc"
      },
      "source": [
        "len(mean_square_list)"
      ],
      "execution_count": 54,
      "outputs": [
        {
          "output_type": "execute_result",
          "data": {
            "text/plain": [
              "50"
            ]
          },
          "metadata": {
            "tags": []
          },
          "execution_count": 54
        }
      ]
    },
    {
      "cell_type": "code",
      "metadata": {
        "colab": {
          "base_uri": "https://localhost:8080/"
        },
        "id": "iKQTNoOvxVoh",
        "outputId": "8457a8d5-beb8-4097-946e-f73681183389"
      },
      "source": [
        "#Mean of the Mean Squared errors from 50 runs\n",
        "np.mean(mean_square_list)"
      ],
      "execution_count": 57,
      "outputs": [
        {
          "output_type": "execute_result",
          "data": {
            "text/plain": [
              "46.110293425510214"
            ]
          },
          "metadata": {
            "tags": []
          },
          "execution_count": 57
        }
      ]
    },
    {
      "cell_type": "code",
      "metadata": {
        "colab": {
          "base_uri": "https://localhost:8080/"
        },
        "id": "bFnbk2zdxbfI",
        "outputId": "b9a256e7-f288-44a0-e603-3db4962fd32a"
      },
      "source": [
        "#Standard Deviation of the Mean Squared errors from 50 runs\n",
        "np.std(mean_square_list)"
      ],
      "execution_count": 58,
      "outputs": [
        {
          "output_type": "execute_result",
          "data": {
            "text/plain": [
              "3.47691892792718"
            ]
          },
          "metadata": {
            "tags": []
          },
          "execution_count": 58
        }
      ]
    },
    {
      "cell_type": "code",
      "metadata": {
        "colab": {
          "base_uri": "https://localhost:8080/",
          "height": 282
        },
        "id": "gEUXtQXxxiFu",
        "outputId": "67eb93ae-49f4-45ad-adcb-c772a3dbbef7"
      },
      "source": [
        "import matplotlib.pyplot as plt\n",
        "%matplotlib inline\n",
        "concrete_df['Strength'].hist()"
      ],
      "execution_count": 17,
      "outputs": [
        {
          "output_type": "execute_result",
          "data": {
            "text/plain": [
              "<matplotlib.axes._subplots.AxesSubplot at 0x7f1bc39ad3d0>"
            ]
          },
          "metadata": {
            "tags": []
          },
          "execution_count": 17
        },
        {
          "output_type": "display_data",
          "data": {
            "image/png": "[encoded data removed]",
            "text/plain": [
              "<Figure size 432x288 with 1 Axes>"
            ]
          },
          "metadata": {
            "tags": [],
            "needs_background": "light"
          }
        }
      ]
    },
    {
      "cell_type": "code",
      "metadata": {
        "colab": {
          "base_uri": "https://localhost:8080/"
        },
        "id": "uORcbiVRzhNG",
        "outputId": "2c6894b8-842f-44e8-f83e-00d0f713e82c"
      },
      "source": [
        "concrete_df['Strength'].describe()"
      ],
      "execution_count": 60,
      "outputs": [
        {
          "output_type": "execute_result",
          "data": {
            "text/plain": [
              "count    1030.000000\n",
              "mean       35.817961\n",
              "std        16.705742\n",
              "min         2.330000\n",
              "25%        23.710000\n",
              "50%        34.445000\n",
              "75%        46.135000\n",
              "max        82.600000\n",
              "Name: Strength, dtype: float64"
            ]
          },
          "metadata": {
            "tags": []
          },
          "execution_count": 60
        }
      ]
    },
    {
      "cell_type": "markdown",
      "metadata": {
        "id": "5BoNyHeXhQcR"
      },
      "source": [
        "Assignment B : Normalize data"
      ]
    },
    {
      "cell_type": "code",
      "metadata": {
        "colab": {
          "base_uri": "https://localhost:8080/",
          "height": 204
        },
        "id": "Elk4RNkPhVnT",
        "outputId": "1259a4b1-52b6-42e5-8d9a-2a3617eeb612"
      },
      "source": [
        "#Normalize step\n",
        "concrete_df_norm = concrete_df.drop(['Strength'],axis=1)\n",
        "concrete_df_norm = (concrete_df_norm - concrete_df_norm.mean()) / concrete_df_norm.std()\n",
        "concrete_df_norm.head(5)"
      ],
      "execution_count": 12,
      "outputs": [
        {
          "output_type": "execute_result",
          "data": {
            "text/html": [
              "<div>\n",
              "<style scoped>\n",
              "    .dataframe tbody tr th:only-of-type {\n",
              "        vertical-align: middle;\n",
              "    }\n",
              "\n",
              "    .dataframe tbody tr th {\n",
              "        vertical-align: top;\n",
              "    }\n",
              "\n",
              "    .dataframe thead th {\n",
              "        text-align: right;\n",
              "    }\n",
              "</style>\n",
              "<table border=\"1\" class=\"dataframe\">\n",
              "  <thead>\n",
              "    <tr style=\"text-align: right;\">\n",
              "      <th></th>\n",
              "      <th>Cement</th>\n",
              "      <th>Blast Furnace Slag</th>\n",
              "      <th>Fly Ash</th>\n",
              "      <th>Water</th>\n",
              "      <th>Superplasticizer</th>\n",
              "      <th>Coarse Aggregate</th>\n",
              "      <th>Fine Aggregate</th>\n",
              "      <th>Age</th>\n",
              "    </tr>\n",
              "  </thead>\n",
              "  <tbody>\n",
              "    <tr>\n",
              "      <th>0</th>\n",
              "      <td>2.476712</td>\n",
              "      <td>-0.856472</td>\n",
              "      <td>-0.846733</td>\n",
              "      <td>-0.916319</td>\n",
              "      <td>-0.620147</td>\n",
              "      <td>0.862735</td>\n",
              "      <td>-1.217079</td>\n",
              "      <td>-0.279597</td>\n",
              "    </tr>\n",
              "    <tr>\n",
              "      <th>1</th>\n",
              "      <td>2.476712</td>\n",
              "      <td>-0.856472</td>\n",
              "      <td>-0.846733</td>\n",
              "      <td>-0.916319</td>\n",
              "      <td>-0.620147</td>\n",
              "      <td>1.055651</td>\n",
              "      <td>-1.217079</td>\n",
              "      <td>-0.279597</td>\n",
              "    </tr>\n",
              "    <tr>\n",
              "      <th>2</th>\n",
              "      <td>0.491187</td>\n",
              "      <td>0.795140</td>\n",
              "      <td>-0.846733</td>\n",
              "      <td>2.174405</td>\n",
              "      <td>-1.038638</td>\n",
              "      <td>-0.526262</td>\n",
              "      <td>-2.239829</td>\n",
              "      <td>3.551340</td>\n",
              "    </tr>\n",
              "    <tr>\n",
              "      <th>3</th>\n",
              "      <td>0.491187</td>\n",
              "      <td>0.795140</td>\n",
              "      <td>-0.846733</td>\n",
              "      <td>2.174405</td>\n",
              "      <td>-1.038638</td>\n",
              "      <td>-0.526262</td>\n",
              "      <td>-2.239829</td>\n",
              "      <td>5.055221</td>\n",
              "    </tr>\n",
              "    <tr>\n",
              "      <th>4</th>\n",
              "      <td>-0.790075</td>\n",
              "      <td>0.678079</td>\n",
              "      <td>-0.846733</td>\n",
              "      <td>0.488555</td>\n",
              "      <td>-1.038638</td>\n",
              "      <td>0.070492</td>\n",
              "      <td>0.647569</td>\n",
              "      <td>4.976069</td>\n",
              "    </tr>\n",
              "  </tbody>\n",
              "</table>\n",
              "</div>"
            ],
            "text/plain": [
              "     Cement  Blast Furnace Slag  ...  Fine Aggregate       Age\n",
              "0  2.476712           -0.856472  ...       -1.217079 -0.279597\n",
              "1  2.476712           -0.856472  ...       -1.217079 -0.279597\n",
              "2  0.491187            0.795140  ...       -2.239829  3.551340\n",
              "3  0.491187            0.795140  ...       -2.239829  5.055221\n",
              "4 -0.790075            0.678079  ...        0.647569  4.976069\n",
              "\n",
              "[5 rows x 8 columns]"
            ]
          },
          "metadata": {
            "tags": []
          },
          "execution_count": 12
        }
      ]
    },
    {
      "cell_type": "code",
      "metadata": {
        "id": "911HY8PCiHM9"
      },
      "source": [
        "i = 0\n",
        "normalized_mean_error = []\n",
        "for i in range(50):\n",
        "    X_train, X_test, y_train, y_test = train_test_split(concrete_df_norm, concrete_df['Strength'], test_size=0.3, random_state=np.random.randint(0,100,1)[0])\n",
        "    model.fit(X_train,y_train,epochs=50,verbose=0)\n",
        "    normalized_mean_error.append(mean_squared_error(y_test,model.predict(X_test)))\n"
      ],
      "execution_count": 14,
      "outputs": []
    },
    {
      "cell_type": "code",
      "metadata": {
        "colab": {
          "base_uri": "https://localhost:8080/"
        },
        "id": "YMCVI73Pj6-r",
        "outputId": "54f71d74-dbdb-4295-c8ee-2fe92cd71a5c"
      },
      "source": [
        "print(\"Mean:\", np.mean(normalized_mean_error))\n",
        "print(\"Stadard Deviation:\", np.std(normalized_mean_error))"
      ],
      "execution_count": 16,
      "outputs": [
        {
          "output_type": "stream",
          "text": [
            "Mean: 48.33426766943879\n",
            "Stadard Deviation: 58.74512628651361\n"
          ],
          "name": "stdout"
        }
      ]
    },
    {
      "cell_type": "code",
      "metadata": {
        "colab": {
          "base_uri": "https://localhost:8080/",
          "height": 350
        },
        "id": "GSGWVQAIkZeP",
        "outputId": "d0f051f5-730c-46e1-9af3-292b8907e344"
      },
      "source": [
        "plt.hist(normalized_mean_error)"
      ],
      "execution_count": 18,
      "outputs": [
        {
          "output_type": "execute_result",
          "data": {
            "text/plain": [
              "(array([45.,  2.,  1.,  1.,  0.,  0.,  0.,  0.,  0.,  1.]),\n",
              " array([ 27.3260055 ,  66.88272421, 106.43944292, 145.99616164,\n",
              "        185.55288035, 225.10959906, 264.66631777, 304.22303648,\n",
              "        343.77975519, 383.3364739 , 422.89319261]),\n",
              " <a list of 10 Patch objects>)"
            ]
          },
          "metadata": {
            "tags": []
          },
          "execution_count": 18
        },
        {
          "output_type": "display_data",
          "data": {
            "image/png": "[encoded data removed]",
            "text/plain": [
              "<Figure size 432x288 with 1 Axes>"
            ]
          },
          "metadata": {
            "tags": [],
            "needs_background": "light"
          }
        }
      ]
    },
    {
      "cell_type": "markdown",
      "metadata": {
        "id": "6ahl0drrl4m0"
      },
      "source": [
        "C. Epochs = 100"
      ]
    },
    {
      "cell_type": "code",
      "metadata": {
        "colab": {
          "base_uri": "https://localhost:8080/"
        },
        "id": "2AzXuh7Dk-kR",
        "outputId": "a54e95e8-f124-41cc-d877-74da5ed6010b"
      },
      "source": [
        "# Run step B with 100 epochs\n",
        "\n",
        "i = 0\n",
        "normalized_mean_error_epoch_100 = []\n",
        "for i in range(50):\n",
        "    X_train, X_test, y_train, y_test = train_test_split(concrete_df_norm, concrete_df['Strength'], test_size=0.3, random_state=np.random.randint(0,100,1)[0])\n",
        "    model.fit(X_train,y_train,epochs=100,verbose=0)\n",
        "    normalized_mean_error_epoch_100.append(mean_squared_error(y_test,model.predict(X_test)))\n",
        "\n",
        "print(\"Mean:\", np.mean(normalized_mean_error_epoch_100))\n",
        "print(\"Stadard Deviation:\", np.std(normalized_mean_error_epoch_100))"
      ],
      "execution_count": 19,
      "outputs": [
        {
          "output_type": "stream",
          "text": [
            "Mean: 28.172140483673342\n",
            "Stadard Deviation: 2.315007160705319\n"
          ],
          "name": "stdout"
        }
      ]
    },
    {
      "cell_type": "markdown",
      "metadata": {
        "id": "XmSuRl2lnU0e"
      },
      "source": [
        "D. Increase Number of Hidden layers"
      ]
    },
    {
      "cell_type": "code",
      "metadata": {
        "colab": {
          "base_uri": "https://localhost:8080/"
        },
        "id": "pBbIyjL4mcT3",
        "outputId": "3a85d1ef-de11-40e4-f17e-552ef4a95ea3"
      },
      "source": [
        "# Build model\n",
        "RegressionModel1 = Sequential()\n",
        "RegressionModel1.add(Dense(10,activation='relu',input_shape=(n_cols,)))\n",
        "RegressionModel1.add(Dense(10,activation='relu'))\n",
        "RegressionModel1.add(Dense(10,activation='relu'))\n",
        "RegressionModel1.add(Dense(1))\n",
        "\n",
        "# Compile the model\n",
        "RegressionModel1.compile(optimizer='adam',loss='mean_squared_error')\n",
        "i = 0\n",
        "normalized_mean_error_epoch_50 = []\n",
        "for i in range(50):\n",
        "    X_train, X_test, y_train, y_test = train_test_split(concrete_df_norm, concrete_df['Strength'], test_size=0.3, random_state=np.random.randint(0,100,1)[0])\n",
        "    RegressionModel1.fit(X_train,y_train,epochs=50,verbose=0)\n",
        "    normalized_mean_error_epoch_50.append(mean_squared_error(y_test,RegressionModel1.predict(X_test)))\n",
        "\n",
        "print(\"Mean:\", np.mean(normalized_mean_error_epoch_50))\n",
        "print(\"Stadard Deviation:\", np.std(normalized_mean_error_epoch_50))"
      ],
      "execution_count": 21,
      "outputs": [
        {
          "output_type": "stream",
          "text": [
            "Mean: 35.56403737505913\n",
            "Stadard Deviation: 23.556256982245323\n"
          ],
          "name": "stdout"
        }
      ]
    },
    {
      "cell_type": "code",
      "metadata": {
        "id": "8kTd2GFRqAgQ"
      },
      "source": [
        ""
      ],
      "execution_count": null,
      "outputs": []
    }
  ]
}